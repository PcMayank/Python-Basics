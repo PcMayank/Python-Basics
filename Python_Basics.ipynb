{
  "nbformat": 4,
  "nbformat_minor": 0,
  "metadata": {
    "colab": {
      "provenance": []
    },
    "kernelspec": {
      "name": "python3",
      "display_name": "Python 3"
    },
    "language_info": {
      "name": "python"
    }
  },
  "cells": [
    {
      "cell_type": "markdown",
      "source": [
        "# Theoritical\n",
        "\n",
        "---\n",
        "\n"
      ],
      "metadata": {
        "id": "Jane8Jc2-MSf"
      }
    },
    {
      "cell_type": "markdown",
      "source": [
        "1. **What is Python, and why is it popular?**\n",
        "\n",
        "->  Python is a high-level, interpreted programming language.\n",
        "\n",
        "  It is Popular due to -\n",
        "\n",
        "*   Readable and clean syntax\n",
        "*   Interpreted Language\n",
        "*   Ease of learning and use\n",
        "*   versatility\n",
        "*   massive global community contributing libraries and tools.\n",
        "\n",
        "\n",
        "\n",
        "\n",
        "\n"
      ],
      "metadata": {
        "id": "7wHS6f8OV3le"
      }
    },
    {
      "cell_type": "markdown",
      "source": [
        "2. **What is an interpreter in Python?**\n",
        "\n",
        "-> An interpreter in Python is a program that reads and executes Python code line by line."
      ],
      "metadata": {
        "id": "DFEBF5CyXiCm"
      }
    },
    {
      "cell_type": "markdown",
      "source": [
        "3. **What are pre-defined keywords in Python?**\n",
        "\n",
        "-> Pre-defined keywords in Python are reserved words that have special meaning in the language. We cannot use them as variable names, function names because they are part of Python’s syntax.\n",
        "\n",
        "Some of them are -\n",
        " if, elif, else, except, return, import, def, etc."
      ],
      "metadata": {
        "id": "pLobC08lZFhs"
      }
    },
    {
      "cell_type": "markdown",
      "source": [
        "4. **Can keywords be used as variable names?**\n",
        "\n",
        "-> No, keywords cannot be used as variable names in Python as they are reserved by Python because they are used to define the structure and rules of the language."
      ],
      "metadata": {
        "id": "1YcamPqHZjvI"
      }
    },
    {
      "cell_type": "markdown",
      "source": [
        "5. **What is mutability in Python?**\n",
        "\n",
        "->   mutability refers to whether an object can be changed after it is created.\n",
        "Example- list, set, dict, etc."
      ],
      "metadata": {
        "id": "wKXnl3z0ZjhZ"
      }
    },
    {
      "cell_type": "markdown",
      "source": [
        "6. **Why are lists mutable, but tuples are immutable?**\n",
        "\n",
        "-> *List are mutable as they are -*\n",
        "\n",
        "  Designed for changeable collections.\n",
        "  used when you expect to modify, add, or remove items.\n",
        "\n",
        "  \n",
        "  *Tupes are immutable as they are -*\n",
        "\n",
        "  designed for fixed collections of items.\n",
        "  used for data that shouldn't change, like coordinates, function arguments, or dictionary keys."
      ],
      "metadata": {
        "id": "LBVnAsYnZjTU"
      }
    },
    {
      "cell_type": "markdown",
      "source": [
        "7. **What is the difference between “==” and “is” operators in Python?**\n",
        "\n",
        "-> == (equality operator) -\n",
        "   Checks if two values are equal, regardless of whether they are the same object in memory.\n",
        "\n",
        "   is (identity operator) -\n",
        "   Checks if two variables point to the exact same object in memory (i.e., same memory address).\n"
      ],
      "metadata": {
        "id": "GBliCY92ZjCb"
      }
    },
    {
      "cell_type": "markdown",
      "source": [
        "8. **What are logical operators in Python?**\n",
        "\n",
        "->  Logical operators are used to combine conditional statements.\n",
        "   There are mainly three types of operators:\n",
        "\n",
        "  Logical AND (True if both the condition are true)\n",
        "\n",
        "  Logical OR  (True if any one or both the conditions are true)\n",
        "\n",
        "  Logical NOT (Inverts the condition)\n"
      ],
      "metadata": {
        "id": "NFo7VgAaZiwr"
      }
    },
    {
      "cell_type": "markdown",
      "source": [
        "9. **What is type casting in Python?**\n",
        "\n",
        "->   Type Casting is a concept in which converting a value from one data type to another.\n",
        "\n",
        "Ex-  num_str = \"42\"  //This value 42 is a string value\n",
        "\n",
        "num = int(num_str)  //This value is integer value now"
      ],
      "metadata": {
        "id": "3EVVkFPjaTDd"
      }
    },
    {
      "cell_type": "markdown",
      "source": [
        "10. **What is the difference between implicit and explicit type casting?**\n",
        "\n",
        "->  Implicit type casting is that python automatically converts one data type to another when needed.\n",
        "\n",
        "x = 5       # int\n",
        "\n",
        "y = 2.0     # float\n",
        "\n",
        "z = x + y   # Python converts x to float\n",
        "\n",
        "print(z)    # 7.0 (float)\n",
        "\n",
        "\n",
        "Explicit type casting is that we manually converts the data type using built-in functions.\n",
        "\n",
        "Float to int\n",
        "\n",
        "x = int(3.9)             # 3 (truncates decimal)\n",
        "\n",
        "Int to float\n",
        "\n",
        "y = float(7)             # 7.0\n",
        "\n",
        " Number to string\n",
        "\n",
        "z = str(100)             # \"100\"\n"
      ],
      "metadata": {
        "id": "3xVK3wRKaS6H"
      }
    },
    {
      "cell_type": "markdown",
      "source": [
        "11. **What is the purpose of conditional statements in Python?**\n",
        "\n",
        "->  Conditional statements in Python allow program to make decisions and execute certain blocks of code only when specific conditions are met.\n",
        "It is done using if statement, if-else statement."
      ],
      "metadata": {
        "id": "B6g3xyCqaSw_"
      }
    },
    {
      "cell_type": "markdown",
      "source": [
        "12. **How does the elif statement work?**\n",
        "\n",
        "->  The elif statement stands for \"else if\" and is used to check multiple conditions in sequence."
      ],
      "metadata": {
        "id": "0_RiY_vxaSlA"
      }
    },
    {
      "cell_type": "markdown",
      "source": [
        "13. **What is the difference between for and while loops?**\n",
        "\n",
        "->  for Loop: Used When You Know the no. of Iterations\n",
        "Iterates over a sequence (like a list, string, range, etc.).\n",
        "\n",
        "It is mainly used  when you know how many times to loop.\n",
        "\n",
        "  while Loop: Used When You Don’t Know how many times to loop\n",
        "repeats as long as a condition is True.\n",
        "\n",
        "Best when the number of iterations is not known."
      ],
      "metadata": {
        "id": "SabDdD-paSS_"
      }
    },
    {
      "cell_type": "markdown",
      "source": [
        "14. **Describe a scenario where a while loop is more suitable than a for loop.**\n",
        "\n",
        "-> Suppose you’re building a simple program that asks the user to enter a password. You want to keep asking until they enter the correct password.\n",
        "\n",
        "It can be shown through an example:\n",
        "\n",
        "    correct_password = \"python123\"\n",
        "\n",
        "    user_input = \"\"\n",
        "\n",
        "    while user_input != correct_password:\n",
        "\n",
        "    user_input = input(\"Enter your password: \")\n",
        "\n",
        "    print(\"Access granted!\")  "
      ],
      "metadata": {
        "id": "A4ibcY8ZaRcs"
      }
    },
    {
      "cell_type": "markdown",
      "source": [
        "# Practical\n",
        "\n",
        "---\n",
        "\n"
      ],
      "metadata": {
        "id": "msH2oMZNBDPp"
      }
    },
    {
      "cell_type": "code",
      "source": [
        "# 1.Write a Python program to print \"Hello, World!\"\n",
        "\n",
        "print(\"Hello, World!\")"
      ],
      "metadata": {
        "colab": {
          "base_uri": "https://localhost:8080/"
        },
        "id": "vocfzJdaDbO3",
        "outputId": "b6f8e246-826d-4c2e-92e6-3e7f39d3a564"
      },
      "execution_count": null,
      "outputs": [
        {
          "output_type": "stream",
          "name": "stdout",
          "text": [
            "Hello, World!\n"
          ]
        }
      ]
    },
    {
      "cell_type": "code",
      "source": [
        "# 2.Write a Python program that displays your name and age.\n",
        "\n",
        "Name=\"Mayank\"\n",
        "Age=22\n",
        "\n",
        "print(\"Name:\", Name)\n",
        "print(\"Age:\", Age)"
      ],
      "metadata": {
        "colab": {
          "base_uri": "https://localhost:8080/"
        },
        "id": "CrARFtbFDa_d",
        "outputId": "de19df47-907e-4b92-99ec-57c8e1777e21"
      },
      "execution_count": null,
      "outputs": [
        {
          "output_type": "stream",
          "name": "stdout",
          "text": [
            "Name: Mayank\n",
            "Age: 22\n"
          ]
        }
      ]
    },
    {
      "cell_type": "code",
      "source": [
        "# 3.Write code to print all the pre-defined keywords in Python using the keyword library.\n",
        "\n",
        "import keyword\n",
        "print(keyword.kwlist)"
      ],
      "metadata": {
        "id": "cSGBNV4ZDaes"
      },
      "execution_count": null,
      "outputs": []
    },
    {
      "cell_type": "code",
      "source": [
        "# 4.Write a program that checks if a given word is a Python keyword.\n",
        "\n",
        "import keyword\n",
        "\n",
        "word = input(\"Enter a word:\")\n",
        "\n",
        "if (keyword.iskeyword(word)):\n",
        "  print(word, \"is a python keyword\")\n",
        "else:\n",
        "  print(word, \"is not a python keyword\")"
      ],
      "metadata": {
        "id": "iBBj_bCkDaPr"
      },
      "execution_count": null,
      "outputs": []
    },
    {
      "cell_type": "code",
      "source": [
        "# 5.Create a list and tuple in Python, and demonstrate how attempting to change an element works differently for each.\n",
        "\n",
        "my_list = [1,2,3,4,5]\n",
        "print(\"Original List:\", my_list)\n",
        "my_list[1]= 10\n",
        "print(\"Modifies List:\", my_list)\n",
        "\n",
        "my_tuple = (1,2,3,4,5)\n",
        "print(\"original tuple:\", my_tuple)\n",
        "\n",
        "# my_tuple[1]=10   This will show error\n",
        "# print(\"Modified tuple:\",my_tuple) This also shows error\n",
        "\n",
        "# In order to run tuple, We have to typecast this into list like\n",
        "perf_list = list(my_tuple)\n",
        "perf_list[1]=10\n",
        "my_tuple= tuple(perf_list)\n",
        "print(\"Modified tuple:\",my_tuple)\n"
      ],
      "metadata": {
        "id": "WJCcF35_IeIH"
      },
      "execution_count": null,
      "outputs": []
    },
    {
      "cell_type": "code",
      "source": [
        "# 7. Write a program that performs basic arithmetic operations on two user-input numbers.\n",
        "\n",
        "a=input(\"One Number:\")\n",
        "b=input(\"Second number:\")\n",
        "a=int(a)\n",
        "b=int(b)\n",
        "print(\"addition: \", a+b)\n",
        "print(\"subtraction: \", a-b)\n",
        "print(\"Multiplication: \", a*b)\n",
        "\n"
      ],
      "metadata": {
        "id": "LTFiP-BpDZ7b"
      },
      "execution_count": null,
      "outputs": []
    },
    {
      "cell_type": "code",
      "source": [
        "# 8.Write a program to demonstrate the use of logical operators.\n",
        "\n",
        "a = True\n",
        "b = False\n",
        "\n",
        "print(\"a =\", a)\n",
        "print(\"b =\", b)\n",
        "\n",
        "print(\"a and b:\", a and b)  # False, because b is False\n",
        "\n",
        "print(\"a or b:\", a or b)    # True, because a is True\n",
        "\n",
        "print(\"not a:\", not a)      # False, because a is True\n",
        "print(\"not b:\", not b)      # True, because b is False\n"
      ],
      "metadata": {
        "colab": {
          "base_uri": "https://localhost:8080/"
        },
        "id": "XDELbfT1DZtV",
        "outputId": "411daf57-77a4-4f15-eb50-8417caedfd4a"
      },
      "execution_count": null,
      "outputs": [
        {
          "output_type": "stream",
          "name": "stdout",
          "text": [
            "a = True\n",
            "b = False\n",
            "a and b: False\n",
            "a or b: True\n",
            "not a: False\n",
            "not b: True\n"
          ]
        }
      ]
    },
    {
      "cell_type": "code",
      "source": [
        "# 9.Write a Python program to convert user input from string to integer, float, and boolean types.\n",
        "\n",
        "user_input = input(\"Enter a number: \")  #by-default string\n",
        "\n",
        "integer_value = int(user_input)\n",
        "print(\"Integer:\", integer_value)\n",
        "\n",
        "float_value = float(user_input)\n",
        "print(\"Float:\", float_value)\n",
        "\n",
        "boolean_value = (user_input == \"True\")\n",
        "print(\"Boolean:\", boolean_value)"
      ],
      "metadata": {
        "id": "qHdjR_gyDZd6"
      },
      "execution_count": null,
      "outputs": []
    },
    {
      "cell_type": "code",
      "source": [
        "# 10. Write code to demonstrate type casting with list elements.\n",
        "\n",
        "str_list = ['1', '2', '3', '4', True, 90, False]\n",
        "\n",
        "int_list = []\n",
        "\n",
        "for item in str_list:\n",
        "    int_list.append(int(item))\n",
        "\n",
        "print(int_list)"
      ],
      "metadata": {
        "colab": {
          "base_uri": "https://localhost:8080/"
        },
        "id": "vFoV8R7iDZMS",
        "outputId": "ab81fbd0-90ce-4ff0-a042-e053be427903"
      },
      "execution_count": null,
      "outputs": [
        {
          "output_type": "stream",
          "name": "stdout",
          "text": [
            "[1, 2, 3, 4, 1, 90, 0]\n"
          ]
        }
      ]
    },
    {
      "cell_type": "code",
      "source": [
        "# 11. Write a program that checks if a number is positive, negative, or zero.\n",
        "\n",
        "num = input(\"Give a integer value:\")\n",
        "num=int(num)\n",
        "if num>0:\n",
        "  print(\"Positive\")\n",
        "elif num==0:\n",
        "  print(\"Zero\")\n",
        "else :\n",
        " print(\"Negative\")"
      ],
      "metadata": {
        "colab": {
          "base_uri": "https://localhost:8080/"
        },
        "id": "29LYdU3iDY8f",
        "outputId": "cb0d0f27-ab27-4df5-f1ef-661a781c9e0d"
      },
      "execution_count": null,
      "outputs": [
        {
          "output_type": "stream",
          "name": "stdout",
          "text": [
            "Give a integer value:-3\n",
            "Negative\n"
          ]
        }
      ]
    },
    {
      "cell_type": "code",
      "source": [
        "# 12. Write a for loop to print numbers from 1 to 10.\n",
        "for num in range(1,11):\n",
        "  print(num, end=\" \")"
      ],
      "metadata": {
        "colab": {
          "base_uri": "https://localhost:8080/"
        },
        "id": "oTHjdR5uDYqt",
        "outputId": "bb0da919-d519-45e8-a0c5-99231fb58c59"
      },
      "execution_count": null,
      "outputs": [
        {
          "output_type": "stream",
          "name": "stdout",
          "text": [
            "1 2 3 4 5 6 7 8 9 10 "
          ]
        }
      ]
    },
    {
      "cell_type": "code",
      "source": [
        "# 13. Write a Python program to find the sum of all even numbers between 1 and 50.\n",
        "\n",
        "sum=0\n",
        "for num in range(1,51):\n",
        "  if num%2==0:\n",
        "    sum+=num\n",
        "\n",
        "print(\"Sum: \", sum)"
      ],
      "metadata": {
        "colab": {
          "base_uri": "https://localhost:8080/"
        },
        "id": "QMhw5qt2DYUa",
        "outputId": "75ced0c9-af08-41c1-a19b-1e980bf6aa00"
      },
      "execution_count": null,
      "outputs": [
        {
          "output_type": "stream",
          "name": "stdout",
          "text": [
            "Sum:  650\n"
          ]
        }
      ]
    },
    {
      "cell_type": "code",
      "source": [
        "# 14. Write a program to reverse a string using a while loop.\n",
        "\n",
        "string = input(\"Enter a string:\")\n",
        "rev_str=\"\"\n",
        "index=len(string)-1\n",
        "\n",
        "while index>=0:\n",
        "  rev_str+=string[index]\n",
        "  index=index-1\n",
        "  print(\"Reversed String: \", rev_str)\n",
        "\n",
        "print(\"Final Reversed String: \", rev_str)"
      ],
      "metadata": {
        "colab": {
          "base_uri": "https://localhost:8080/"
        },
        "id": "eVeM5zBGDXwk",
        "outputId": "b28b6495-fc97-441b-d55a-e4f5bd3b9775"
      },
      "execution_count": null,
      "outputs": [
        {
          "output_type": "stream",
          "name": "stdout",
          "text": [
            "Enter a string:mayank\n",
            "Reversed String:  k\n",
            "Reversed String:  kn\n",
            "Reversed String:  kna\n",
            "Reversed String:  knay\n",
            "Reversed String:  knaya\n",
            "Reversed String:  knayam\n",
            "Final Reversed String:  knayam\n"
          ]
        }
      ]
    },
    {
      "cell_type": "code",
      "source": [
        "# 15. Write a Python program to calculate the factorial of a number provided by the user using a while loop.\n",
        "\n",
        "num = int(input(\"Enter a number: \"))\n",
        "fact = 1\n",
        "\n",
        "i=1\n",
        "while i<=num:\n",
        "  fact*=i\n",
        "  i+=1\n",
        "\n",
        "print(\"Factorial: \",fact)\n"
      ],
      "metadata": {
        "colab": {
          "base_uri": "https://localhost:8080/"
        },
        "id": "vfLNTK2oDXEF",
        "outputId": "d489dacd-fd08-4ad4-f00b-a6565063b74a"
      },
      "execution_count": null,
      "outputs": [
        {
          "output_type": "stream",
          "name": "stdout",
          "text": [
            "Enter a number: 5\n",
            "Factorial:  120\n"
          ]
        }
      ]
    }
  ]
}